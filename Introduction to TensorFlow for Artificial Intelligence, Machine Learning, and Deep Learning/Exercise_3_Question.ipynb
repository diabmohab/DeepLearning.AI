{
  "nbformat": 4,
  "nbformat_minor": 0,
  "metadata": {
    "colab": {
      "name": "Exercise 3 - Question.ipynb",
      "version": "0.3.2",
      "provenance": [],
      "collapsed_sections": []
    },
    "kernelspec": {
      "name": "python3",
      "display_name": "Python 3"
    }
  },
  "cells": [
    {
      "cell_type": "markdown",
      "metadata": {
        "id": "iQjHqsmTAVLU",
        "colab_type": "text"
      },
      "source": [
        "## Exercise 3\n",
        "In the videos you looked at how you would improve Fashion MNIST using Convolutions. For your exercise see if you can improve MNIST to 99.8% accuracy or more using only a single convolutional layer and a single MaxPooling 2D. You should stop training once the accuracy goes above this amount. It should happen in less than 20 epochs, so it's ok to hard code the number of epochs for training, but your training must end once it hits the above metric. If it doesn't, then you'll need to redesign your layers.\n",
        "\n",
        "I've started the code for you -- you need to finish it!\n",
        "\n",
        "When 99.8% accuracy has been hit, you should print out the string \"Reached 99.8% accuracy so cancelling training!\"\n"
      ]
    },
    {
      "cell_type": "code",
      "metadata": {
        "id": "sfQRyaJWAIdg",
        "colab_type": "code",
        "colab": {
          "base_uri": "https://localhost:8080/",
          "height": 390
        },
        "outputId": "d2e1a695-553e-4fdd-d629-113b6706bf39"
      },
      "source": [
        "import tensorflow as tf\n",
        "# Callback Class\n",
        "class myCallback(tf.keras.callbacks.Callback):\n",
        "  def on_epoch_end(self, epoch, logs={}):\n",
        "    if(logs.get('acc')>0.998):\n",
        "      print(\"\\nReached 99.8% accuracy so cancelling training!\")\n",
        "      self.model.stop_training = True\n",
        "\n",
        "callbacks = myCallback()\n",
        "\n",
        "mnist = tf.keras.datasets.mnist\n",
        "(training_images, training_labels), (test_images, test_labels) = mnist.load_data()\n",
        "# Preprocessing Data\n",
        "\n",
        "training_images=training_images.reshape(60000, 28, 28, 1)\n",
        "training_images=training_images / 255.0\n",
        "test_images = test_images.reshape(10000, 28, 28, 1)\n",
        "test_images=test_images/255.0\n",
        "# setting the Model\n",
        "model = tf.keras.models.Sequential([\n",
        "  tf.keras.layers.Conv2D(32, (3,3), activation='relu', input_shape=(28, 28, 1)),\n",
        "  tf.keras.layers.MaxPooling2D(2, 2),\n",
        "  tf.keras.layers.Flatten(),\n",
        "  tf.keras.layers.Dense(128, activation='relu'),\n",
        "  tf.keras.layers.Dense(10, activation='softmax')\n",
        "])\n",
        "model.compile(optimizer='adam', loss='sparse_categorical_crossentropy', metrics=['accuracy'])\n",
        "model.fit(training_images, training_labels, epochs=10, callbacks=[callbacks])\n"
      ],
      "execution_count": 8,
      "outputs": [
        {
          "output_type": "stream",
          "text": [
            "Epoch 1/10\n",
            "60000/60000 [==============================] - 62s 1ms/sample - loss: 0.1512 - acc: 0.9546\n",
            "Epoch 2/10\n",
            "60000/60000 [==============================] - 59s 987us/sample - loss: 0.0526 - acc: 0.9844\n",
            "Epoch 3/10\n",
            "60000/60000 [==============================] - 61s 1ms/sample - loss: 0.0327 - acc: 0.9897\n",
            "Epoch 4/10\n",
            "60000/60000 [==============================] - 61s 1ms/sample - loss: 0.0213 - acc: 0.9930\n",
            "Epoch 5/10\n",
            "60000/60000 [==============================] - 58s 974us/sample - loss: 0.0156 - acc: 0.9949\n",
            "Epoch 6/10\n",
            "60000/60000 [==============================] - 60s 1ms/sample - loss: 0.0105 - acc: 0.9966\n",
            "Epoch 7/10\n",
            "60000/60000 [==============================] - 59s 977us/sample - loss: 0.0080 - acc: 0.9975\n",
            "Epoch 8/10\n",
            "60000/60000 [==============================] - 59s 984us/sample - loss: 0.0070 - acc: 0.9978\n",
            "Epoch 9/10\n",
            "59968/60000 [============================>.] - ETA: 0s - loss: 0.0055 - acc: 0.9982\n",
            "Reached 99.8% accuracy so cancelling training!\n",
            "60000/60000 [==============================] - 59s 977us/sample - loss: 0.0055 - acc: 0.9983\n"
          ],
          "name": "stdout"
        },
        {
          "output_type": "execute_result",
          "data": {
            "text/plain": [
              "<tensorflow.python.keras.callbacks.History at 0x7f47b3230828>"
            ]
          },
          "metadata": {
            "tags": []
          },
          "execution_count": 8
        }
      ]
    }
  ]
}