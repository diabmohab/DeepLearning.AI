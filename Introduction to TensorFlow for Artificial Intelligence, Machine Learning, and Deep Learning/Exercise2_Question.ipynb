{
  "nbformat": 4,
  "nbformat_minor": 0,
  "metadata": {
    "colab": {
      "name": "Copy of Exercise2-Question.ipynb",
      "version": "0.3.2",
      "provenance": [],
      "collapsed_sections": []
    },
    "kernelspec": {
      "name": "python3",
      "display_name": "Python 3"
    }
  },
  "cells": [
    {
      "cell_type": "markdown",
      "metadata": {
        "id": "tOoyQ70H00_s",
        "colab_type": "text"
      },
      "source": [
        "## Exercise 2\n",
        "In the course you learned how to do classification using Fashion MNIST, a data set containing items of clothing. There's another, similar dataset called MNIST which has items of handwriting -- the digits 0 through 9.\n",
        "\n",
        "Write an MNIST classifier that trains to 99% accuracy or above, and does it without a fixed number of epochs -- i.e. you should stop training once you reach that level of accuracy.\n",
        "\n",
        "Some notes:\n",
        "1. It should succeed in less than 10 epochs, so it is okay to change epochs to 10, but nothing larger\n",
        "2. When it reaches 99% or greater it should print out the string \"Reached 99% accuracy so cancelling training!\"\n",
        "3. If you add any additional variables, make sure you use the same names as the ones used in the class\n",
        "\n",
        "I've started the code for you below -- how would you finish it? "
      ]
    },
    {
      "cell_type": "code",
      "metadata": {
        "id": "9rvXQGAA0ssC",
        "colab_type": "code",
        "outputId": "fbcc4451-d8bd-436f-b1b9-089406a1d52c",
        "colab": {
          "base_uri": "https://localhost:8080/",
          "height": 321
        }
      },
      "source": [
        "import tensorflow as tf # import keras\n",
        "\n",
        "# setting a callback class to help with stopping the training when reaching the desired threshold\n",
        "class myCallback(tf.keras.callbacks.Callback):\n",
        "  def on_epoch_end(self, epoch, logs = {}):\n",
        "    if(logs.get('acc') > .99):                         # 99% accuracy is Desired \n",
        "      print('\\nReached 99% accuracy so cancelling training')\n",
        "      self.model.stop_training = True\n",
        "      \n",
        "mnist = tf.keras.datasets.mnist # loading data\n",
        "\n",
        "(x_train, y_train),(x_test, y_test) = mnist.load_data()\n",
        "\n",
        "x_train, x_test = x_train / 255, x_test / 255 # normalizing data\n",
        "\n",
        "\n",
        "callbacks = myCallback() # calling an instance from the class above\n",
        "\n",
        "# Model Defining\n",
        "model = tf.keras.models.Sequential([tf.keras.layers.Flatten(input_shape = (28, 28)),\n",
        "                                    tf.keras.layers.Dense(512, activation=tf.nn.relu),\n",
        "                                    tf.keras.layers.Dense(10, activation=tf.nn.softmax)\n",
        "\n",
        "])\n",
        "\n",
        "\n",
        "model.compile(optimizer='adam',\n",
        "              loss='sparse_categorical_crossentropy',\n",
        "              metrics=['accuracy'])\n",
        "\n",
        "# Fitting the model\n",
        "model.fit(x_train, y_train, epochs=10, callbacks = [callbacks] )\n",
        "# hopes that it will stop training after reaching the 99% accuracy which must be happening before reaching 10 epochs"
      ],
      "execution_count": 1,
      "outputs": [
        {
          "output_type": "stream",
          "text": [
            "WARNING:tensorflow:From /usr/local/lib/python3.6/dist-packages/tensorflow/python/ops/resource_variable_ops.py:435: colocate_with (from tensorflow.python.framework.ops) is deprecated and will be removed in a future version.\n",
            "Instructions for updating:\n",
            "Colocations handled automatically by placer.\n",
            "Epoch 1/10\n",
            "60000/60000 [==============================] - 11s 183us/sample - loss: 0.2004 - acc: 0.9400\n",
            "Epoch 2/10\n",
            "60000/60000 [==============================] - 11s 177us/sample - loss: 0.0804 - acc: 0.9758\n",
            "Epoch 3/10\n",
            "60000/60000 [==============================] - 11s 180us/sample - loss: 0.0531 - acc: 0.9828\n",
            "Epoch 4/10\n",
            "60000/60000 [==============================] - 11s 187us/sample - loss: 0.0368 - acc: 0.9881\n",
            "Epoch 5/10\n",
            "59808/60000 [============================>.] - ETA: 0s - loss: 0.0277 - acc: 0.9911\n",
            "Reached 99% accuracy so cancelling training\n",
            "60000/60000 [==============================] - 11s 186us/sample - loss: 0.0277 - acc: 0.9911\n"
          ],
          "name": "stdout"
        },
        {
          "output_type": "execute_result",
          "data": {
            "text/plain": [
              "<tensorflow.python.keras.callbacks.History at 0x7fd068c07d68>"
            ]
          },
          "metadata": {
            "tags": []
          },
          "execution_count": 1
        }
      ]
    }
  ]
}